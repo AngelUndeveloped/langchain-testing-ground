{
 "cells": [
  {
   "cell_type": "code",
   "execution_count": null,
   "metadata": {},
   "outputs": [],
   "source": [
    "# Follow the tutorial here: https://langchain-ai.github.io/langgraph/tutorials/get-started/1-build-basic-chatbot/#prerequisites"
   ]
  },
  {
   "cell_type": "code",
   "execution_count": 1,
   "metadata": {},
   "outputs": [
    {
     "name": "stdout",
     "output_type": "stream",
     "text": [
      "Note: you may need to restart the kernel to use updated packages.\n"
     ]
    }
   ],
   "source": [
    "# Install the necessary packages\n",
    "%pip install -q -U langgraph langsmith"
   ]
  },
  {
   "cell_type": "code",
   "execution_count": 2,
   "metadata": {},
   "outputs": [],
   "source": [
    "from typing import Annotated\n",
    "from typing_extensions import TypedDict\n",
    "from langgraph.graph import StateGraph, START\n",
    "from langgraph.graph.message import add_messages\n",
    "\n",
    "class State(TypedDict):\n",
    "    # Messages have the type list. The add_messages fucntion\n",
    "    # in the annotation defines how this state key should be updated\n",
    "    # (in this case, it appends messages to the list, rather than overwriting them)\n",
    "    messages: Annotated[list, add_messages]\n",
    "\n",
    "graph_builder = StateGraph(State)"
   ]
  },
  {
   "cell_type": "code",
   "execution_count": 3,
   "metadata": {},
   "outputs": [
    {
     "name": "stdout",
     "output_type": "stream",
     "text": [
      "Note: you may need to restart the kernel to use updated packages.\n"
     ]
    }
   ],
   "source": [
    "# Add a node with google's gemini model\n",
    "%pip install -q -U \"langchain[google-genai]\""
   ]
  },
  {
   "cell_type": "code",
   "execution_count": 4,
   "metadata": {},
   "outputs": [],
   "source": [
    "import os\n",
    "from dotenv import load_dotenv\n",
    "from langchain.chat_models import init_chat_model\n",
    "\n",
    "load_dotenv()\n",
    "\n",
    "llm = init_chat_model(os.getenv(\"LANGCHAIN_GOOGLE_LLM_MODEL\"))\n"
   ]
  },
  {
   "cell_type": "code",
   "execution_count": 8,
   "metadata": {},
   "outputs": [
    {
     "data": {
      "text/plain": [
       "<langgraph.graph.state.StateGraph at 0x7f0ae0403590>"
      ]
     },
     "execution_count": 8,
     "metadata": {},
     "output_type": "execute_result"
    }
   ],
   "source": [
    "def chatbot(state:State):\n",
    "    return {\"messages\": [llm.invoke(state[\"messages\"])]}\n",
    "\n",
    "# The first argument is the unique node name\n",
    "# The second sargumetn is the fucntion or object that willl be called whenever\n",
    "# the node is used.\n",
    "graph_builder.add_node(\"chatbot\", chatbot)"
   ]
  },
  {
   "cell_type": "code",
   "execution_count": 9,
   "metadata": {},
   "outputs": [
    {
     "data": {
      "text/plain": [
       "<langgraph.graph.state.StateGraph at 0x7f0ae0403590>"
      ]
     },
     "execution_count": 9,
     "metadata": {},
     "output_type": "execute_result"
    }
   ],
   "source": [
    "# Add en entry point\n",
    "graph_builder.add_edge(START, \"chatbot\")"
   ]
  },
  {
   "cell_type": "code",
   "execution_count": 10,
   "metadata": {},
   "outputs": [],
   "source": [
    "# Compile the graph\n",
    "graph = graph_builder.compile()"
   ]
  },
  {
   "cell_type": "code",
   "execution_count": 11,
   "metadata": {},
   "outputs": [
    {
     "data": {
      "image/png": "[encoded data removed]",
      "text/plain": [
       "<IPython.core.display.Image object>"
      ]
     },
     "metadata": {},
     "output_type": "display_data"
    }
   ],
   "source": [
    "# Visualize the graph\n",
    "from IPython.display import Image, display\n",
    "\n",
    "try:\n",
    "    display(Image(graph.get_graph().draw_mermaid_png()))\n",
    "except Exception as e:\n",
    "    print(f\"Error visualizing graph: {e}\")"
   ]
  },
  {
   "cell_type": "code",
   "execution_count": 13,
   "metadata": {},
   "outputs": [
    {
     "name": "stdout",
     "output_type": "stream",
     "text": [
      "Assistant: Ah, the dream of taming a dragon! Unfortunately, in the real world, dragons are mythical creatures, so you can't tame one. But, since you're asking, let's explore some fun, imaginative scenarios where you might have a *chance* to tame a dragon:\n",
      "\n",
      "**In the Realm of Fantasy:**\n",
      "\n",
      "*   **Your Favorite Fantasy Novel or Movie:** If you're thinking of a specific fictional world like *How to Train Your Dragon*, *Eragon*, or *Game of Thrones*, the rules for taming dragons are set by the author. You'd need to understand that world's lore.\n",
      "*   **A High-Fantasy Setting:** In a generic high-fantasy setting, you'd likely need a combination of:\n",
      "    *   **A Strong Bond:** Dragons are often intelligent and proud creatures. Earning their trust is paramount. This might involve acts of bravery, kindness, or understanding.\n",
      "    *   **Magical Ability:** Some settings require magical aptitude to communicate with or control dragons.\n",
      "    *   **Dragon-Specific Knowledge:** Understanding dragon behavior, diet, and needs is essential.\n",
      "    *   **A Special Item:** A magical artifact or a dragon-related heirloom might be required.\n",
      "*   **Video Game:** Many video games feature dragons that can be tamed or ridden.\n",
      "\n",
      "**If Dragons Existed (Hypothetically):**\n",
      "\n",
      "*   **A Remote Mountain Range or Volcanic Island:** Dragons, if real, would likely live in remote, inaccessible areas.\n",
      "*   **A Dragon Sanctuary (If One Existed):** Some organization dedicated to protecting and studying dragons might exist, and you could potentially work there to learn about and interact with them.\n",
      "\n",
      "**Important Considerations (Even in Fantasy):**\n",
      "\n",
      "*   **Dragons are Powerful:** They are often apex predators with immense strength and magical abilities. Taming one would be incredibly dangerous.\n",
      "*   **Respect is Key:** Dragons are often portrayed as proud and intelligent beings. Treating them with respect is crucial.\n",
      "*   **Not All Dragons Are Tamable:** Some dragons might be inherently wild or evil.\n",
      "\n",
      "**In Summary:**\n",
      "\n",
      "While you can't tame a real dragon, you can explore the idea through fantasy books, movies, and games. Enjoy the adventure! And remember, the best way to \"tame\" a dragon is through the power of imagination.\n",
      "Assistant: Unfortunately, taming a dragon is a task relegated to the realm of fantasy and fiction! Dragons, as magnificent as they are, don't exist in the real world.\n",
      "\n",
      "However, if you're looking for a way to experience the *idea* of taming a dragon, here are a few ideas based on different interpretations of your question:\n",
      "\n",
      "**In Video Games:**\n",
      "\n",
      "*   **Skyrim:** The *Dragonborn* DLC allows you to learn shouts that can bend dragons to your will.\n",
      "*   **ARK: Survival Evolved:** You can tame Wyverns, which are very dragon-like creatures, through a challenging process.\n",
      "*   **Monster Hunter Series:** While you don't \"tame\" them, you fight and sometimes capture powerful dragons, and learn to use their parts to craft powerful weapons and armor.\n",
      "*   **Minecraft:** With mods, you can add dragons to your game and tame them.\n",
      "*   **Dragon Quest Builders 2:** You can befriend a dragon and have it help you in your building endeavors.\n",
      "\n",
      "**In Books and Movies:**\n",
      "\n",
      "*   **Read fantasy books:** *Eragon* by Christopher Paolini, *How to Train Your Dragon* by Cressida Cowell, and *A Song of Ice and Fire* (Game of Thrones) by George R.R. Martin all feature dragons and characters who interact with them.\n",
      "*   **Watch fantasy movies:** *How to Train Your Dragon* is a great animated option.\n",
      "\n",
      "**Creative and Imaginative Options:**\n",
      "\n",
      "*   **Write a story:** Create your own world and character who tames a dragon.\n",
      "*   **Draw or paint a dragon and its rider:** Bring your vision to life.\n",
      "*   **Role-playing games (RPGs):** Many RPGs, like Dungeons & Dragons, allow you to play as a dragon rider or interact with dragons in various ways.\n",
      "*   **Visit a Renaissance Faire:** Many faires have performers dressed as dragons or dragon trainers.\n",
      "\n",
      "**If you were perhaps thinking of a real animal that is reminiscent of a dragon:**\n",
      "\n",
      "*   **Komodo Dragons (Indonesia):** While you can't \"tame\" them, you can observe them in their natural habitat on the Indonesian islands of Komodo, Rinca, Flores, and Gili Motang. *However, these are dangerous predators and should only be viewed from a safe distance with experienced guides.*\n",
      "*   **Bearded Dragons (Pet):** These are lizards that are popular pets, and while they aren't fire-breathing monsters, they have a dragon-like appearance. Be sure to research their care requirements before getting one.\n",
      "\n",
      "Ultimately, the \"taming\" of a dragon is a matter of imagination and finding a way to engage with the concept through creative or virtual means. Good luck on your quest!\n"
     ]
    },
    {
     "name": "stderr",
     "output_type": "stream",
     "text": [
      "/home/yair/learning/langchain-testing-ground/.venv/lib/python3.12/site-packages/langchain_google_genai/chat_models.py:1568: UserWarning: HumanMessage with empty content was removed to prevent API error\n",
      "  warnings.warn(\n"
     ]
    },
    {
     "name": "stdout",
     "output_type": "stream",
     "text": [
      "User: What do you know about LangGraph?\n",
      "Assistant: LangGraph is a framework developed by LangChain for building stateful, multi-actor applications using Large Language Models (LLMs). It allows you to create conversational AI agents that can reason, plan, and take actions in a more structured and reliable way than traditional LLM chains.\n",
      "\n",
      "Here's a breakdown of what I know about LangGraph:\n",
      "\n",
      "**Key Concepts and Features:**\n",
      "\n",
      "* **Stateful Graphs:** LangGraph introduces the concept of a stateful graph, where the application's state is explicitly managed and updated as the graph executes. This allows for memory and context to be maintained throughout the application's lifecycle.\n",
      "* **Nodes:** Nodes are the fundamental building blocks of a LangGraph. They represent the different actors or steps in your application. Nodes can be:\n",
      "    * **LLM Chains:**  Integrate LLMs for tasks like generating text, answering questions, or translating languages.\n",
      "    * **Tools:**  Connect to external tools like search engines, databases, or APIs.\n",
      "    * **Functions:**  Execute custom Python code to perform specific logic.\n",
      "* **Edges:** Edges define the flow of execution within the graph. They connect nodes and determine the order in which they are executed.  LangGraph supports different types of edges:\n",
      "    * **Conditional Edges:**  Allow the graph to branch based on the current state or the output of a node. This is crucial for creating agents that can adapt to different situations.\n",
      "    * **Normal Edges:**  Connect nodes in a sequential manner.\n",
      "* **Cycles (Loops):** LangGraph explicitly supports cycles, allowing you to create applications that can iterate and refine their reasoning or actions. This is essential for complex tasks that require multiple steps.\n",
      "* **Parallel Execution:**  LangGraph can execute certain nodes in parallel, speeding up the overall execution time of the application.\n",
      "* **Integration with LangChain:** LangGraph is built on top of LangChain and seamlessly integrates with its existing components, such as LLMs, prompts, and tools. This makes it easy to leverage your existing LangChain knowledge and resources.\n",
      "* **Agentic Workflows:**  LangGraph excels at building agentic workflows, where an agent can reason about its goals, plan its actions, execute those actions using tools, and then reflect on the results to improve its future performance.\n",
      "* **Debugging and Monitoring:**  LangGraph provides tools for debugging and monitoring your applications, allowing you to understand how they are behaving and identify any issues.\n",
      "\n",
      "**Benefits of Using LangGraph:**\n",
      "\n",
      "* **Improved Reliability:** Explicit state management and structured workflows make LangGraph applications more reliable and predictable than traditional LLM chains.\n",
      "* **Enhanced Reasoning and Planning:**  The ability to create complex graphs with conditional logic and cycles enables agents to reason about their goals and plan their actions more effectively.\n",
      "* **Increased Flexibility:**  LangGraph provides a flexible framework for building a wide range of applications, from simple chatbots to complex autonomous agents.\n",
      "* **Better Maintainability:**  The modular design of LangGraph makes it easier to maintain and update your applications over time.\n",
      "* **Observability:**  The framework allows for better observability into the execution of your LLM applications, making it easier to debug and improve performance.\n",
      "\n",
      "**Use Cases:**\n",
      "\n",
      "* **Autonomous Agents:** Creating agents that can perform complex tasks without human intervention.\n",
      "* **Chatbots:** Building more sophisticated chatbots that can handle complex conversations and provide personalized support.\n",
      "* **Knowledge Bases:** Developing knowledge bases that can answer questions based on a variety of sources.\n",
      "* **Data Analysis:** Automating data analysis tasks using LLMs and external tools.\n",
      "* **Code Generation:**  Building tools that can generate code based on natural language descriptions.\n",
      "\n",
      "**How it differs from LangChain Chains:**\n",
      "\n",
      "While LangChain chains provide a linear sequence of operations, LangGraph allows for branching, looping, and parallel execution.  This makes LangGraph more suitable for complex applications that require more sophisticated control flow and state management. LangChain chains are often a building block *within* a LangGraph node.\n",
      "\n",
      "**In summary, LangGraph is a powerful framework for building stateful, multi-actor LLM applications. It provides the tools and abstractions necessary to create more reliable, flexible, and maintainable AI agents.**\n",
      "\n",
      "To learn more about LangGraph, I recommend checking out the official LangChain documentation and tutorials.  You can find them on the LangChain website or by searching for \"LangGraph LangChain.\"  You'll find example code and explanations of the core concepts.\n"
     ]
    }
   ],
   "source": [
    "# Run the chatbot\n",
    "def stream_graph_update(user_input:str):\n",
    "    for event in graph.stream({\"messages\":[{\"role\": \"user\", \"content\": user_input}]}):\n",
    "        for value in event.values():\n",
    "            print(\"Assistant:\", value[\"messages\"][-1].content)\n",
    "\n",
    "while True:\n",
    "    try:\n",
    "        user_input = input(\"User: \")\n",
    "        if user_input.lower() in [\"q\", \"quit\", \"exit\"]:\n",
    "            print(\"Exiting...\")\n",
    "            break\n",
    "        stream_graph_update(user_input)\n",
    "    except Exception as e:\n",
    "        # Fallback if input() is not available\n",
    "        user_input = \"What do you know about LangGraph?\"\n",
    "        print(\"User: \" + user_input)\n",
    "        stream_graph_update(user_input)\n",
    "        break\n",
    "    except EOFError:\n",
    "        print(\"Exiting...\")\n",
    "        break\n"
   ]
  },
  {
   "cell_type": "code",
   "execution_count": 14,
   "metadata": {},
   "outputs": [
    {
     "name": "stdout",
     "output_type": "stream",
     "text": [
      "Note: you may need to restart the kernel to use updated packages.\n"
     ]
    }
   ],
   "source": [
    "# Lets implement a search agent now\n",
    "# Install tavily if not already installed\n",
    "%pip install -q -U langchain-tavily"
   ]
  },
  {
   "cell_type": "code",
   "execution_count": 17,
   "metadata": {},
   "outputs": [
    {
     "data": {
      "text/plain": [
       "{'query': 'What is the current weather in Tokyo?',\n",
       " 'follow_up_questions': None,\n",
       " 'answer': None,\n",
       " 'images': [],\n",
       " 'results': [{'title': 'Weather in Tokyo',\n",
       "   'url': 'https://www.weatherapi.com/',\n",
       "   'content': \"{'location': {'name': 'Tokyo', 'region': 'Tokyo', 'country': 'Japan', 'lat': 35.6895, 'lon': 139.6917, 'tz_id': 'Asia/Tokyo', 'localtime_epoch': 1749523520, 'localtime': '2025-06-10 11:45'}, 'current': {'last_updated_epoch': 1749523500, 'last_updated': '2025-06-10 11:45', 'temp_c': 21.1, 'temp_f': 70.0, 'is_day': 1, 'condition': {'text': 'Light rain', 'icon': '//cdn.weatherapi.com/weather/64x64/day/296.png', 'code': 1183}, 'wind_mph': 2.7, 'wind_kph': 4.3, 'wind_degree': 14, 'wind_dir': 'NNE', 'pressure_mb': 1011.0, 'pressure_in': 29.85, 'precip_mm': 0.04, 'precip_in': 0.0, 'humidity': 88, 'cloud': 75, 'feelslike_c': 21.1, 'feelslike_f': 70.0, 'windchill_c': 21.0, 'windchill_f': 69.8, 'heatindex_c': 21.0, 'heatindex_f': 69.8, 'dewpoint_c': 18.6, 'dewpoint_f': 65.4, 'vis_km': 7.0, 'vis_miles': 4.0, 'uv': 1.4, 'gust_mph': 3.7, 'gust_kph': 5.9}}\",\n",
       "   'score': 0.8841237,\n",
       "   'raw_content': None},\n",
       "  {'title': 'Tokyo weather in June 2025 | Tokyo 14 day weather',\n",
       "   'url': 'https://www.weather25.com/asia/japan/tokyo?page=month&month=June',\n",
       "   'content': \"The temperatures in Tokyo in June are comfortable with low of 19 ° C and and high up to 25 ° C.. You can expect rain for roughly half of the month of June in Tokyo. We're expecting roughly 8 to 15 days of rain, so your rubber boots and umbrella are going to see plenty of use this month if you're keen on staying dry.. Our weather forecast can give you a great sense of what weather to\",\n",
       "   'score': 0.8533396,\n",
       "   'raw_content': None}],\n",
       " 'response_time': 2.52}"
      ]
     },
     "execution_count": 17,
     "metadata": {},
     "output_type": "execute_result"
    }
   ],
   "source": [
    "import os\n",
    "from dotenv import load_dotenv\n",
    "from langchain_tavily import TavilySearch\n",
    "\n",
    "load_dotenv()\n",
    "\n",
    "# create a tool\n",
    "tavily_search_tool = TavilySearch(max_results=2)\n",
    "tools = [tavily_search_tool]\n",
    "tavily_search_tool.invoke(\"What is the current weather in Tokyo?\")"
   ]
  },
  {
   "cell_type": "code",
   "execution_count": 18,
   "metadata": {},
   "outputs": [
    {
     "data": {
      "text/plain": [
       "<langgraph.graph.state.StateGraph at 0x7f0ac4398800>"
      ]
     },
     "execution_count": 18,
     "metadata": {},
     "output_type": "execute_result"
    }
   ],
   "source": [
    "# Lets update our stategraph\n",
    "from typing import Annotated\n",
    "from typing_extensions import TypedDict\n",
    "from langgraph.graph import StateGraph, START, END\n",
    "from langgraph.graph.message import add_messages\n",
    "\n",
    "class State(TypedDict):\n",
    "    messages: Annotated[list, add_messages]\n",
    "\n",
    "graph_builder = StateGraph(State)\n",
    "\n",
    "llm_with_tools = llm.bind_tools(tools)\n",
    "\n",
    "def chatbot(state:State):\n",
    "    return {\"messages\": [llm_with_tools.invoke(state[\"messages\"])]}\n",
    "\n",
    "graph_builder.add_node(\"chatbot\", chatbot)"
   ]
  },
  {
   "cell_type": "code",
   "execution_count": 20,
   "metadata": {},
   "outputs": [
    {
     "data": {
      "text/plain": [
       "<langgraph.graph.state.StateGraph at 0x7f0ac4398800>"
      ]
     },
     "execution_count": 20,
     "metadata": {},
     "output_type": "execute_result"
    }
   ],
   "source": [
    "# Create a function to run the tools\n",
    "import json\n",
    "from langchain_core.messages import ToolMessage\n",
    "\n",
    "class BasicToolNode:\n",
    "    \"\"\" A node that runs the tools requested in the last AI Message.\"\"\"\n",
    "\n",
    "    def __init__(self, tools: list) -> None:\n",
    "        self.tools_by_name = {tool.name: tool for tool in tools}\n",
    "        \n",
    "    def __call__(self, inputs: dict):\n",
    "        if messages := inputs.get(\"messages\", []):\n",
    "            message = messages[-1]\n",
    "        else:\n",
    "            raise ValueError(\"No messages found in the input\")\n",
    "        outputs = []\n",
    "        for tool_call in message.tool_calls:\n",
    "            tool_result = self.tools_by_name[tool_call[\"name\"]].invoke(tool_call[\"args\"])\n",
    "            outputs.append(ToolMessage(\n",
    "                content=json.dumps(tool_result),\n",
    "                name=tool_call[\"name\"],\n",
    "                tool_call_id=tool_call[\"id\"],\n",
    "            ))\n",
    "        return {\"messages\": outputs}\n",
    "\n",
    "tool_node = BasicToolNode(tools=[tavily_search_tool])\n",
    "graph_builder.add_node(\"tools\", tool_node)"
   ]
  },
  {
   "cell_type": "code",
   "execution_count": 22,
   "metadata": {},
   "outputs": [],
   "source": [
    "def route_tools(state:State):\n",
    "    \"\"\"\n",
    "    Use in the conditional_edge to route to the ToolNode if the last message has tool calls. Otherwise, route to the end.\n",
    "    \"\"\"\n",
    "    if isinstance(state, list):\n",
    "        ai_message = state[-1]\n",
    "    elif messages := state.get(\"messages\", []):\n",
    "        ai_message = messages[-1]\n",
    "    else:\n",
    "        raise ValueError(f\"No messages found in input state to tool_edge: {state}\")\n",
    "    if hasattr(ai_message, \"tool_calls\") and len(ai_message.tool_calls) > 0:\n",
    "        return \"tools\"\n",
    "    return END\n",
    "\n",
    "# The 'tools_condtion' functino returns \"tools\" if the cahtbots asks to use a tool, and \"END\" if\n",
    "# it is fine directly responding. This conditional routing defines the main agent loop.\n",
    "graph_builder.add_conditional_edges(\n",
    "    \"chatbot\",\n",
    "    route_tools,\n",
    "    # The following dictionary lets you tell the graph to interperet the condtion's outputs as a specific node.\n",
    "    # It defaults to the identity function but if you want to use a node named something else\n",
    "    # apart from tools, you can update the value of the dictionary to something else.\n",
    "    # e.g. \"tools\" : \"my_tools\"\n",
    "    {\"tools\": \"tools\", END: END},\n",
    ")\n",
    "\n",
    "# Any time a tool is called, we return to the chatbot to decide the next step.\n",
    "graph_builder.add_edge(\"tools\", \"chatbot\")\n",
    "graph_builder.add_edge(START, \"chatbot\")\n",
    "graph = graph_builder.compile()\n",
    "        "
   ]
  },
  {
   "cell_type": "code",
   "execution_count": 23,
   "metadata": {},
   "outputs": [
    {
     "data": {
      "image/png": "[encoded data removed]",
      "text/plain": [
       "<IPython.core.display.Image object>"
      ]
     },
     "metadata": {},
     "output_type": "display_data"
    }
   ],
   "source": [
    "from IPython.display import Image, display\n",
    "\n",
    "try:\n",
    "    display(Image(graph.get_graph().draw_mermaid_png()))\n",
    "except Exception as e:\n",
    "    print(f\"Error visualizing graph: {e}\")"
   ]
  },
  {
   "cell_type": "code",
   "execution_count": 24,
   "metadata": {},
   "outputs": [
    {
     "name": "stdout",
     "output_type": "stream",
     "text": [
      "Assistant: \n",
      "Assistant: {\"query\": \"when was pepsi black created\", \"follow_up_questions\": null, \"answer\": null, \"images\": [], \"results\": [{\"title\": \"How Business Has Undermined Racism: The Pepsi Story\", \"url\": \"https://www.psychologytoday.com/intl/blog/fully-human/201902/how-business-has-undermined-racism-the-pepsi-story\", \"content\": \"The effects were not immediate, but during the 1950s Pepsi's sales increased dramatically, eventually outselling Coke in the black community by a margin of three to one.\", \"score\": 0.365344, \"raw_content\": null}, {\"title\": \"Pepsi Max - Wikipedia\", \"url\": \"https://en.wikipedia.org/wiki/Pepsi_Max\", \"content\": \"Pepsi Max (also known as Pepsi Black in some countries and Pepsi Zero in Poland and Portugal) is a low-calorie, sugar-free cola, marketed by PepsiCo as an alternative to Pepsi and Diet Pepsi, except for Norway, where it is the main Pepsi flavor.[citation needed] Pepsi Max is available primarily in Asian, European and Australia/New Zealand markets. Recent[when?] UK and Australia Pepsi Max television advertisements (as well as in several European countries[which?]) have featured the taglines \\\"Maximum taste, no sugar\\\" and \\\"Don't worry, there's no sugar.\\\"[citation needed] Some have incorporated extreme sports, as well as video games such as Motocross Mania, in an attempt to appeal to young men (in contrast to other diet cola drinks, which tend to target young women).[citation needed] The British advertising campaign involved retouched versions of the American \\\"Do the Dew\\\" commercials for Mountain Dew (a variant of which is sold in the UK), rebranded as \\\"Live life to the Max\\\".[citation needed]\", \"score\": 0.26680464, \"raw_content\": null}], \"response_time\": 2.26}\n",
      "Assistant: Pepsi Black is also known as Pepsi Max in some countries. The provided search results indicate that Pepsi Max is available primarily in Asian, European, and Australia/New Zealand markets. However, the search results do not contain the creation date of Pepsi Black/Pepsi Max. I will search again with a modified query.\n",
      "Assistant: {\"query\": \"when was pepsi max first sold\", \"follow_up_questions\": null, \"answer\": null, \"images\": [], \"results\": [{\"title\": \"Pepsi Max | The Soda Encyclopedia Wiki | Fandom\", \"url\": \"https://the-soda-encyclopedia.fandom.com/wiki/Pepsi_Max\", \"content\": \"Pepsi Max with a mint and lime flavor. It was sold in Finland as a limited edition in 2008 and was also sold in Denmark until August 2009 under the name Pepsi Max Mojito. Cherry Pepsi Max with a cherry flavor. It was first sold in the UK in 2011 and has since become available in Germany, Norway, Denmark, Finland, and the Netherlands.\", \"score\": 0.84918517, \"raw_content\": null}, {\"title\": \"Pepsi Max (History, Flavors, Marketing & Commercials)\", \"url\": \"https://www.snackhistory.com/pepsi-max/\", \"content\": \"Pepsi Max with cherry flavor debuted in the U.K. in 2011 and later was sold in several other European countries. U.S. Pepsi fans got the chance to try it as Pepsi Max Cherry Blast in 2015. Ginger Pepsi Max was released in the UK, Lebanon, Norway, Sweden, Finland, Germany, Denmark, and the Netherlands in 2017.\", \"score\": 0.756376, \"raw_content\": null}], \"response_time\": 2.21}\n",
      "Assistant: Pepsi Black is also known as Pepsi Max in some countries. While I don't have the exact date of creation, Pepsi Max is available primarily in Asian, European and Australia/New Zealand markets. In 2008, a mint and lime flavor Pepsi Max was sold in Finland as a limited edition, and in 2011, a cherry flavor debuted in the U.K.\n"
     ]
    },
    {
     "name": "stderr",
     "output_type": "stream",
     "text": [
      "/home/yair/learning/langchain-testing-ground/.venv/lib/python3.12/site-packages/langchain_google_genai/chat_models.py:1568: UserWarning: HumanMessage with empty content was removed to prevent API error\n",
      "  warnings.warn(\n"
     ]
    },
    {
     "name": "stdout",
     "output_type": "stream",
     "text": [
      "User: What do you know about LangGraph?\n",
      "Assistant: \n",
      "Assistant: {\"query\": \"LangGraph\", \"follow_up_questions\": null, \"answer\": null, \"images\": [], \"results\": [{\"url\": \"https://www.ibm.com/think/topics/langgraph\", \"title\": \"What is LangGraph? - IBM\", \"content\": \"LangGraph, created by [LangChain](https://www.ibm.com/think/topics/langchain), is an open source AI agent framework designed to build, deploy and manage complex generative AI agent workflows. It provides a set of tools and libraries that enable users to create, run and optimize [large language models](https://www.ibm.com/think/topics/large-language-models) (LLMs) in a scalable and efficient manner. At its core, LangGraph uses the power of graph-based architectures to model and manage the [...] By using a graph-based architecture, LangGraph enables users to scale artificial intelligence workflows without slowing down or sacrificing efficiency. LangGraph uses enhanced decision-making by modeling complex relationships between nodes, which means it uses AI agents to analyze their past actions and feedback. In the world of LLMs, this process is referred to as reflection. [...] **Agent systems**: LangGraph provides a framework for building agent-based systems, which can be used in applications such as robotics, autonomous vehicles or video games.\\n\\n**LLM applications**: By using LangGraph\\u2019s capabilities, developers can build more sophisticated AI models that learn and improve over time. Norwegian Cruise Line uses LangGraph to compile, construct and refine guest-facing AI solutions. This capability allows for improved and personalized guest experiences.\", \"score\": 0.9311691, \"raw_content\": null}, {\"url\": \"https://www.langchain.com/langgraph\", \"title\": \"LangGraph - LangChain\", \"content\": \"LangGraph is a stateful, orchestration framework that brings added control to agent workflows. LangGraph Platform is a service for deploying and scaling LangGraph applications, with an opinionated API for building agent UXs, plus an integrated developer studio.\\n\\nLangGraph (open source)\\n\\nLangGraph Platform\\n\\nFeatures\\n\\nDescription\\n\\nStateful orchestration framework for agentic applications\\n\\nScalable infrastructure for deploying LangGraph applications\\n\\nSDKs\\n\\nPython and JavaScript\", \"score\": 0.9224337, \"raw_content\": null}], \"response_time\": 1.75}\n",
      "Assistant: LangGraph is an open-source AI agent framework created by LangChain, designed for building, deploying, and managing complex generative AI agent workflows. It provides tools and libraries to create, run, and optimize large language models (LLMs) in a scalable and efficient manner, using graph-based architectures to model and manage these workflows. It allows users to scale AI workflows without sacrificing efficiency and enhances decision-making by modeling complex relationships between nodes, using AI agents to analyze past actions and feedback. LangGraph is also a stateful orchestration framework that brings added control to agent workflows. There is also LangGraph Platform, a service for deploying and scaling LangGraph applications, with an API for building agent UXs, plus an integrated developer studio. It has SDKs for Python and JavaScript.\n"
     ]
    }
   ],
   "source": [
    "def stream_graph_updates(user_input: str):\n",
    "    for event in graph.stream({\"messages\": [{\"role\": \"user\", \"content\": user_input}]}):\n",
    "        for value in event.values():\n",
    "            print(\"Assistant:\", value[\"messages\"][-1].content)\n",
    "\n",
    "while True:\n",
    "    try:\n",
    "        user_input = input(\"User: \")\n",
    "        if user_input.lower() in [\"quit\", \"exit\", \"q\"]:\n",
    "            print(\"Goodbye!\")\n",
    "            break\n",
    "\n",
    "        stream_graph_updates(user_input)\n",
    "    except:\n",
    "        # fallback if input() is not available\n",
    "        user_input = \"What do you know about LangGraph?\"\n",
    "        print(\"User: \" + user_input)\n",
    "        stream_graph_updates(user_input)\n",
    "        break"
   ]
  },
  {
   "cell_type": "code",
   "execution_count": 25,
   "metadata": {},
   "outputs": [],
   "source": [
    "# Using prebuilts\n",
    "from typing import Annotated\n",
    "\n",
    "from langchain_tavily import TavilySearch\n",
    "from langchain_core.messages import BaseMessage\n",
    "from typing_extensions import TypedDict\n",
    "\n",
    "from langgraph.graph import StateGraph, START, END\n",
    "from langgraph.graph.message import add_messages\n",
    "from langgraph.prebuilt import ToolNode, tools_condition\n",
    "\n",
    "class State(TypedDict):\n",
    "    messages: Annotated[list, add_messages]\n",
    "\n",
    "graph_builder = StateGraph(State)\n",
    "\n",
    "tool = TavilySearch(max_results=2)\n",
    "tools = [tool]\n",
    "llm_with_tools = llm.bind_tools(tools)\n",
    "\n",
    "def chatbot(state: State):\n",
    "    return {\"messages\": [llm_with_tools.invoke(state[\"messages\"])]}\n",
    "\n",
    "graph_builder.add_node(\"chatbot\", chatbot)\n",
    "\n",
    "tool_node = ToolNode(tools=[tool])\n",
    "graph_builder.add_node(\"tools\", tool_node)\n",
    "\n",
    "graph_builder.add_conditional_edges(\n",
    "    \"chatbot\",\n",
    "    tools_condition,\n",
    ")\n",
    "# Any time a tool is called, we return to the chatbot to decide the next step\n",
    "graph_builder.add_edge(\"tools\", \"chatbot\")\n",
    "graph_builder.add_edge(START, \"chatbot\")\n",
    "graph = graph_builder.compile()"
   ]
  },
  {
   "cell_type": "code",
   "execution_count": 26,
   "metadata": {},
   "outputs": [],
   "source": [
    "# Create a memory saver checkpointer\n",
    "from langgraph.checkpoint.memory import MemorySaver\n",
    "\n",
    "memory = MemorySaver()"
   ]
  },
  {
   "cell_type": "code",
   "execution_count": 29,
   "metadata": {},
   "outputs": [],
   "source": [
    "# Compile the graph\n",
    "graph = graph_builder.compile(checkpointer=memory)"
   ]
  },
  {
   "cell_type": "code",
   "execution_count": 30,
   "metadata": {},
   "outputs": [
    {
     "data": {
      "image/png": "[encoded data removed]",
      "text/plain": [
       "<IPython.core.display.Image object>"
      ]
     },
     "metadata": {},
     "output_type": "display_data"
    }
   ],
   "source": [
    "from IPython.display import Image, display\n",
    "\n",
    "try:\n",
    "    display(Image(graph.get_graph().draw_mermaid_png()))\n",
    "except Exception as e:\n",
    "    print(f\"Error visualizing graph: {e}\")"
   ]
  },
  {
   "cell_type": "code",
   "execution_count": 31,
   "metadata": {},
   "outputs": [
    {
     "name": "stdout",
     "output_type": "stream",
     "text": [
      "================================\u001b[1m Human Message \u001b[0m=================================\n",
      "\n",
      "What whale is the largest?\n",
      "==================================\u001b[1m Ai Message \u001b[0m==================================\n",
      "Tool Calls:\n",
      "  tavily_search (38e162ce-1aa6-449f-a664-d71f97067ee5)\n",
      " Call ID: 38e162ce-1aa6-449f-a664-d71f97067ee5\n",
      "  Args:\n",
      "    query: largest whale\n",
      "    topic: general\n",
      "=================================\u001b[1m Tool Message \u001b[0m=================================\n",
      "Name: tavily_search\n",
      "\n",
      "{\"query\": \"largest whale\", \"follow_up_questions\": null, \"answer\": null, \"images\": [], \"results\": [{\"title\": \"Blue whale - Wikipedia\", \"url\": \"https://en.wikipedia.org/wiki/Blue_whale\", \"content\": \"m. musculusLinnaeus, 1758 Blue whale range (in blue) Synonyms Balaena musculusLinnaeus, 1758Balaenoptera gibbarScoresby1820Pterobalaena gigasVan Beneden1861Physalus latirostrisFlower1864Sibbaldius borealisGray1866Flowerius gigasLilljeborg1867Sibbaldius sulfureusCope1869Balaenoptera sibbaldiiSars1875 The blue whale (Balaenoptera musculus) is a marine mammal and a baleen whale. Reaching a maximum confirmed length of 29.9 m (98 ft) and weighing up to 199 t (196 long tons; 219 short tons), it is the largest animal known ever to have existed. Four subspecies are recognized: B. m. musculus in the North Atlantic and North Pacific, B. m. intermedia in the Southern Ocean, B. m. brevicauda (the pygmy blue whale) in the Indian Ocean and South Pacific Ocean, and B. m. indica in the Northern Indian Ocean. In general, blue whale populations migrate between their summer feeding areas near the poles and their winter breeding grounds near the tropics. Blue whales are filter feeders; their diet consists almost exclusively of krill.\", \"score\": 0.7872945, \"raw_content\": null}, {\"title\": \"10 Biggest Whales in The World - American Oceans\", \"url\": \"https://www.americanoceans.org/facts/biggest-whales/\", \"content\": \"Learn about the ten largest whale species, from the blue whale to the minke whale, and their characteristics, distribution, and conservation status. See photos, facts, and rankings of these massive animals that are among the largest on Earth.\", \"score\": 0.7591723, \"raw_content\": null}], \"response_time\": 1.91}\n",
      "==================================\u001b[1m Ai Message \u001b[0m==================================\n",
      "\n",
      "The blue whale is the largest whale and the largest animal known to have ever existed. It can reach a maximum confirmed length of 29.9 meters (98 feet) and weigh up to 199 tons.\n"
     ]
    }
   ],
   "source": [
    "# Thread = key for this conversation\n",
    "config = {\"configurable\": {\"thread_id\": \"1\"}}\n",
    "\n",
    "user_input = \"What whale is the largest?\"\n",
    "\n",
    "# The config is the **second positional argument** to stream() or invoke()!\n",
    "events = graph.stream(\n",
    "    {\"messages\": [{\"role\": \"user\", \"content\": user_input}]},\n",
    "    config=config,\n",
    "    stream_mode=\"values\",\n",
    ")\n",
    "\n",
    "for event in events:\n",
    "    event[\"messages\"][-1].pretty_print()"
   ]
  },
  {
   "cell_type": "code",
   "execution_count": null,
   "metadata": {},
   "outputs": [],
   "source": []
  }
 ],
 "metadata": {
  "kernelspec": {
   "display_name": ".venv",
   "language": "python",
   "name": "python3"
  },
  "language_info": {
   "codemirror_mode": {
    "name": "ipython",
    "version": 3
   },
   "file_extension": ".py",
   "mimetype": "text/x-python",
   "name": "python",
   "nbconvert_exporter": "python",
   "pygments_lexer": "ipython3",
   "version": "3.12.3"
  }
 },
 "nbformat": 4,
 "nbformat_minor": 2
}
